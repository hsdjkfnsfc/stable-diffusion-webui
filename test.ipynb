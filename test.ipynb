{
 "cells": [
  {
   "cell_type": "code",
   "execution_count": 1,
   "metadata": {},
   "outputs": [],
   "source": [
    "import os\n",
    "import shutil\n",
    "\n",
    "sr_dir = \"/home/ps/Project/stable-diffusion-webui/embeddings/颜色embeddings\"\n",
    "\n",
    "for name in os.listdir(sr_dir):\n",
    "    if name.endswith(\"PNG\"):\n",
    "        sr_path = os.path.join(sr_dir, name)\n",
    "        tr_path = os.path.join(sr_dir, name.lower())\n",
    "        shutil.copyfile(sr_path, tr_path)\n",
    "        os.remove(sr_path)\n"
   ]
  }
 ],
 "metadata": {
  "kernelspec": {
   "display_name": "venv",
   "language": "python",
   "name": "python3"
  },
  "language_info": {
   "codemirror_mode": {
    "name": "ipython",
    "version": 3
   },
   "file_extension": ".py",
   "mimetype": "text/x-python",
   "name": "python",
   "nbconvert_exporter": "python",
   "pygments_lexer": "ipython3",
   "version": "3.8.16"
  },
  "orig_nbformat": 4
 },
 "nbformat": 4,
 "nbformat_minor": 2
}
